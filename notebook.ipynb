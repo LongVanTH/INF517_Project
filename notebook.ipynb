{
 "cells": [
  {
   "cell_type": "markdown",
   "metadata": {},
   "source": [
    "# Intro"
   ]
  },
  {
   "cell_type": "code",
   "execution_count": 1,
   "metadata": {},
   "outputs": [],
   "source": [
    "# The goal is to implement and test the method described in the first paper:\n",
    "# Learning Representations and Generative Models for 3D Point Clouds\n",
    "# https://arxiv.org/abs/1707.02392\n",
    "# https://arxiv.org/pdf/1707.02392.pdf\n",
    "# by Panos Achlioptas, Olga Diamanti, Ioannis Mitliagkas, and Leonidas Guibas\n",
    "# https://github.com/optas/latent_3d_points"
   ]
  },
  {
   "cell_type": "code",
   "execution_count": 2,
   "metadata": {},
   "outputs": [
    {
     "name": "stdout",
     "output_type": "stream",
     "text": [
      "6778\n",
      "['787a4db5b3452fc357a847db7547c1f3.ply', '23b0da45f23e5fb4f4b6538438a0b930.ply', 'fc6129a9310ba34c645311c54e2f9bdc.ply', '987770212e08392d2c528d33bca1ac2.ply', '9bdb034f30c404edba1028cd22cb8779.ply', 'f2dae367e56200a7d9b53420a5458c53.ply', 'c94f7f5ec96e10994231039830c7e1d1.ply', '9fae85a69532d03fda686a7d8e3d0692.ply', 'bd6fcae754203396e34dfbaf829eddf7.ply', '8d18fba375d0545edbbc9440457e303e.ply']\n"
     ]
    }
   ],
   "source": [
    "# Data Set\n",
    "# We provide ~57K point-clouds, each sampled from a mesh model of ShapeNetCore with (area) uniform sampling.\n",
    "# The point-clouds will be stored in latent_3d_points/data/shape_net_core_uniform_samples_2048\n",
    "# Use the function snc_category_to_synth_id, defined in src/in_out/, to map a class name such as \"chair\" to its synthetic_id: \"03001627\". Point-clouds of models of the same class are stored under a commonly named folder.\n",
    "\n",
    "import os\n",
    "\n",
    "path = 'latent_3d_points/data/shape_net_core_uniform_samples_2048/03001627'\n",
    "files = os.listdir(path)\n",
    "print(len(files))\n",
    "print(files[:10])"
   ]
  },
  {
   "cell_type": "code",
   "execution_count": 3,
   "metadata": {},
   "outputs": [],
   "source": [
    "# Files are stored in .ply format. We provide a function to read them in src/in_out/ply.py"
   ]
  },
  {
   "cell_type": "markdown",
   "metadata": {},
   "source": [
    "# In out and general_utils"
   ]
  },
  {
   "cell_type": "code",
   "execution_count": 4,
   "metadata": {},
   "outputs": [],
   "source": [
    "import numpy as np\n",
    "import os\n",
    "import matplotlib.pylab  as plt\n",
    "import warnings\n",
    "import re\n",
    "from ipywidgets import interact\n",
    "import ipywidgets as widgets\n",
    "from multiprocessing import Pool\n",
    "from plyfile import PlyData\n",
    "from tqdm.notebook import tqdm\n"
   ]
  },
  {
   "cell_type": "code",
   "execution_count": 5,
   "metadata": {},
   "outputs": [],
   "source": [
    "snc_synth_id_to_category = {\n",
    "    '02691156': 'airplane',  '02773838': 'bag',        '02801938': 'basket',\n",
    "    '02808440': 'bathtub',   '02818832': 'bed',        '02828884': 'bench',\n",
    "    '02834778': 'bicycle',   '02843684': 'birdhouse',  '02871439': 'bookshelf',\n",
    "    '02876657': 'bottle',    '02880940': 'bowl',       '02924116': 'bus',\n",
    "    '02933112': 'cabinet',   '02747177': 'can',        '02942699': 'camera',\n",
    "    '02954340': 'cap',       '02958343': 'car',        '03001627': 'chair',\n",
    "    '03046257': 'clock',     '03207941': 'dishwasher', '03211117': 'monitor',\n",
    "    '04379243': 'table',     '04401088': 'telephone',  '02946921': 'tin_can',\n",
    "    '04460130': 'tower',     '04468005': 'train',      '03085013': 'keyboard',\n",
    "    '03261776': 'earphone',  '03325088': 'faucet',     '03337140': 'file',\n",
    "    '03467517': 'guitar',    '03513137': 'helmet',     '03593526': 'jar',\n",
    "    '03624134': 'knife',     '03636649': 'lamp',       '03642806': 'laptop',\n",
    "    '03691459': 'speaker',   '03710193': 'mailbox',    '03759954': 'microphone',\n",
    "    '03761084': 'microwave', '03790512': 'motorcycle', '03797390': 'mug',\n",
    "    '03928116': 'piano',     '03938244': 'pillow',     '03948459': 'pistol',\n",
    "    '03991062': 'pot',       '04004475': 'printer',    '04074963': 'remote_control',\n",
    "    '04090263': 'rifle',     '04099429': 'rocket',     '04225987': 'skateboard',\n",
    "    '04256520': 'sofa',      '04330267': 'stove',      '04530566': 'vessel',\n",
    "    '04554684': 'washer',    '02858304': 'boat',       '02992529': 'cellphone'\n",
    "}\n",
    "\n",
    "category_to_snc_synth_id = {v: k for k, v in snc_synth_id_to_category.items()}\n",
    "categories = sorted(list(category_to_snc_synth_id.keys()))"
   ]
  },
  {
   "cell_type": "code",
   "execution_count": 6,
   "metadata": {},
   "outputs": [
    {
     "name": "stdout",
     "output_type": "stream",
     "text": [
      "chair\n",
      "6778\n",
      "['787a4db5b3452fc357a847db7547c1f3.ply', '23b0da45f23e5fb4f4b6538438a0b930.ply']\n"
     ]
    }
   ],
   "source": [
    "snc_synth_id = '03001627' # chair\n",
    "print(snc_synth_id_to_category[snc_synth_id])\n",
    "path = 'latent_3d_points/data/shape_net_core_uniform_samples_2048/' + snc_synth_id\n",
    "files = os.listdir(path)\n",
    "print(len(files))\n",
    "print(files[:2])"
   ]
  },
  {
   "cell_type": "code",
   "execution_count": 7,
   "metadata": {},
   "outputs": [],
   "source": [
    "def load_ply(file_name, with_faces=False, with_color=False):\n",
    "    ply_data = PlyData.read(file_name)\n",
    "    points = ply_data['vertex']\n",
    "    points = np.vstack([points['x'], points['y'], points['z']]).T\n",
    "    ret_val = [points]\n",
    "\n",
    "    if with_faces:\n",
    "        faces = np.vstack(ply_data['face']['vertex_indices'])\n",
    "        ret_val.append(faces)\n",
    "\n",
    "    if with_color:\n",
    "        r = np.vstack(ply_data['vertex']['red'])\n",
    "        g = np.vstack(ply_data['vertex']['green'])\n",
    "        b = np.vstack(ply_data['vertex']['blue'])\n",
    "        color = np.hstack((r, g, b))\n",
    "        ret_val.append(color)\n",
    "\n",
    "    if len(ret_val) == 1:  # Unwrap the list\n",
    "        ret_val = ret_val[0]\n",
    "\n",
    "    return ret_val"
   ]
  },
  {
   "cell_type": "code",
   "execution_count": 8,
   "metadata": {},
   "outputs": [
    {
     "name": "stdout",
     "output_type": "stream",
     "text": [
      "(2048, 3)\n"
     ]
    }
   ],
   "source": [
    "ret = load_ply(os.path.join(path, files[0]))\n",
    "print(ret.shape)"
   ]
  },
  {
   "cell_type": "code",
   "execution_count": 9,
   "metadata": {},
   "outputs": [],
   "source": [
    "def plot_3d_point_cloud(x, y, z, show=True, show_axis=True, in_u_sphere=False, marker='.', s=8, alpha=.8, figsize=(5, 5), elev=10, azim=240, axis=None, title=None, *args, **kwargs):\n",
    "\n",
    "    if axis is None:\n",
    "        fig = plt.figure(figsize=figsize)\n",
    "        ax = fig.add_subplot(111, projection='3d')        \n",
    "    else:\n",
    "        ax = axis\n",
    "        fig = axis\n",
    "\n",
    "    if title is not None:\n",
    "        plt.title(title)\n",
    "\n",
    "    sc = ax.scatter(x, y, z, marker=marker, s=s, alpha=alpha, *args, **kwargs)\n",
    "    ax.view_init(elev=elev, azim=azim)\n",
    "\n",
    "    if in_u_sphere:\n",
    "        ax.set_xlim3d(-0.5, 0.5)\n",
    "        ax.set_ylim3d(-0.5, 0.5)\n",
    "        ax.set_zlim3d(-0.5, 0.5)\n",
    "    else:\n",
    "        miv = 0.7 * np.min([np.min(x), np.min(y), np.min(z)])  # Multiply with 0.7 to squeeze free-space.\n",
    "        mav = 0.7 * np.max([np.max(x), np.max(y), np.max(z)])\n",
    "        ax.set_xlim(miv, mav)\n",
    "        ax.set_ylim(miv, mav)\n",
    "        ax.set_zlim(miv, mav)\n",
    "        plt.tight_layout()\n",
    "\n",
    "    if not show_axis:\n",
    "        plt.axis('off')\n",
    "\n",
    "    if 'c' in kwargs:\n",
    "        plt.colorbar(sc)\n",
    "\n",
    "    if show:\n",
    "        plt.show()\n",
    "\n",
    "    return fig"
   ]
  },
  {
   "cell_type": "code",
   "execution_count": 10,
   "metadata": {},
   "outputs": [
    {
     "data": {
      "image/png": "[encoded data removed]",
      "text/plain": [
       "<Figure size 360x360 with 1 Axes>"
      ]
     },
     "metadata": {
      "needs_background": "light"
     },
     "output_type": "display_data"
    }
   ],
   "source": [
    "# plot the first point cloud\n",
    "\n",
    "fig = plot_3d_point_cloud(ret[:, 0], ret[:, 1], ret[:, 2], in_u_sphere=True)"
   ]
  },
  {
   "cell_type": "code",
   "execution_count": 11,
   "metadata": {},
   "outputs": [
    {
     "data": {
      "application/vnd.jupyter.widget-view+json": {
       "model_id": "1ba1429d56dd4ec099cfdcfcc0075744",
       "version_major": 2,
       "version_minor": 0
      },
      "text/plain": [
       "interactive(children=(Dropdown(description='category', options=('airplane', 'bag', 'basket', 'bathtub', 'bed',…"
      ]
     },
     "metadata": {},
     "output_type": "display_data"
    },
    {
     "data": {
      "text/plain": [
       "<function __main__.plot_point_cloud(category, i, elev, azim)>"
      ]
     },
     "execution_count": 11,
     "metadata": {},
     "output_type": "execute_result"
    }
   ],
   "source": [
    "# ipywidgets interact\n",
    "def plot_point_cloud(category, i, elev, azim):\n",
    "    snc_synth_id = category_to_snc_synth_id[category]\n",
    "    path = 'latent_3d_points/data/shape_net_core_uniform_samples_2048/' + snc_synth_id\n",
    "    files = os.listdir(path)\n",
    "    ret = load_ply(os.path.join(path, files[i]))\n",
    "    fig = plot_3d_point_cloud(ret[:, 0], ret[:, 1], ret[:, 2], in_u_sphere=True,\n",
    "                              title='{}: {}'.format(category, files[i]),\n",
    "                              figsize=(16, 7), elev=elev, azim=azim)\n",
    "                        \n",
    "interact(plot_point_cloud, category=categories, i=widgets.IntSlider(min=0, max=100, step=1, value=0),\n",
    "            elev=widgets.IntSlider(min=-90, max=90, step=1, value=20),\n",
    "            azim=widgets.IntSlider(min=-180, max=180, step=1, value=0))"
   ]
  },
  {
   "cell_type": "code",
   "execution_count": 14,
   "metadata": {},
   "outputs": [],
   "source": [
    "# files_in_subdirs returns a list of all files in the subdirectories of the top_dir directory that match the search_pattern.\n",
    "# In this case, it returns a list of all .ply files in the subdirectories of the top_dir directory.\n",
    "\n",
    "# pc_loader is a function that loads a point cloud from a file. It returns the point cloud, the model name, and the synset id.\n",
    "\n",
    "# load_point_clouds_from_filenames returns a tuple of three numpy arrays.\n",
    "# The first array contains the point clouds, the second array contains the model names, and the third array contains the synset IDs.\n",
    "\n",
    "# load_all_point_clouds_under_folder returns a PointCloudDataSet object.\n",
    "\n",
    "# The PointCloudDataSet object contains the point clouds, the model names, and the synset IDs."
   ]
  },
  {
   "cell_type": "code",
   "execution_count": 21,
   "metadata": {},
   "outputs": [],
   "source": [
    "class PointCloudDataSet(object):\n",
    "    '''\n",
    "    See https://github.com/tensorflow/tensorflow/blob/a5d8217c4ed90041bea2616c14a8ddcf11ec8c03/tensorflow/examples/tutorials/mnist/input_data.py\n",
    "    '''\n",
    "\n",
    "    def __init__(self, point_clouds, noise=None, labels=None, copy=True, init_shuffle=True):\n",
    "        '''Construct a DataSet.\n",
    "        Args:\n",
    "            init_shuffle, shuffle data before first epoch has been reached.\n",
    "        Output:\n",
    "            original_pclouds, labels, (None or Feed) # TODO Rename\n",
    "        '''\n",
    "\n",
    "        self.num_examples = point_clouds.shape[0]\n",
    "        self.n_points = point_clouds.shape[1]\n",
    "\n",
    "        if labels is not None:\n",
    "            assert point_clouds.shape[0] == labels.shape[0], ('points.shape: %s labels.shape: %s' % (point_clouds.shape, labels.shape))\n",
    "            if copy:\n",
    "                self.labels = labels.copy()\n",
    "            else:\n",
    "                self.labels = labels\n",
    "\n",
    "        else:\n",
    "            self.labels = np.ones(self.num_examples, dtype=np.int8)\n",
    "\n",
    "        if noise is not None:\n",
    "            assert (type(noise) is np.ndarray)\n",
    "            if copy:\n",
    "                self.noisy_point_clouds = noise.copy()\n",
    "            else:\n",
    "                self.noisy_point_clouds = noise\n",
    "        else:\n",
    "            self.noisy_point_clouds = None\n",
    "\n",
    "        if copy:\n",
    "            self.point_clouds = point_clouds.copy()\n",
    "        else:\n",
    "            self.point_clouds = point_clouds\n",
    "\n",
    "        self.epochs_completed = 0\n",
    "        self._index_in_epoch = 0\n",
    "        if init_shuffle:\n",
    "            self.shuffle_data()\n",
    "\n",
    "    def shuffle_data(self, seed=None):\n",
    "        if seed is not None:\n",
    "            np.random.seed(seed)\n",
    "        perm = np.arange(self.num_examples)\n",
    "        np.random.shuffle(perm)\n",
    "        self.point_clouds = self.point_clouds[perm]\n",
    "        self.labels = self.labels[perm]\n",
    "        if self.noisy_point_clouds is not None:\n",
    "            self.noisy_point_clouds = self.noisy_point_clouds[perm]\n",
    "        return self\n",
    "\n",
    "    def next_batch(self, batch_size, seed=None):\n",
    "        '''Return the next batch_size examples from this data set.\n",
    "        '''\n",
    "        start = self._index_in_epoch\n",
    "        self._index_in_epoch += batch_size\n",
    "        if self._index_in_epoch > self.num_examples:\n",
    "            self.epochs_completed += 1  # Finished epoch.\n",
    "            self.shuffle_data(seed)\n",
    "            # Start next epoch\n",
    "            start = 0\n",
    "            self._index_in_epoch = batch_size\n",
    "        end = self._index_in_epoch\n",
    "\n",
    "        if self.noisy_point_clouds is None:\n",
    "            return self.point_clouds[start:end], self.labels[start:end], None\n",
    "        else:\n",
    "            return self.point_clouds[start:end], self.labels[start:end], self.noisy_point_clouds[start:end]\n",
    "\n",
    "    def full_epoch_data(self, shuffle=True, seed=None):\n",
    "        '''Returns a copy of the examples of the entire data set (i.e. an epoch's data), shuffled.\n",
    "        '''\n",
    "        if shuffle and seed is not None:\n",
    "            np.random.seed(seed)\n",
    "        perm = np.arange(self.num_examples)  # Shuffle the data.\n",
    "        if shuffle:\n",
    "            np.random.shuffle(perm)\n",
    "        pc = self.point_clouds[perm]\n",
    "        lb = self.labels[perm]\n",
    "        ns = None\n",
    "        if self.noisy_point_clouds is not None:\n",
    "            ns = self.noisy_point_clouds[perm]\n",
    "        return pc, lb, ns\n",
    "\n",
    "    def merge(self, other_data_set):\n",
    "        self._index_in_epoch = 0\n",
    "        self.epochs_completed = 0\n",
    "        self.point_clouds = np.vstack((self.point_clouds, other_data_set.point_clouds))\n",
    "\n",
    "        labels_1 = self.labels.reshape([self.num_examples, 1])  # TODO = move to init.\n",
    "        labels_2 = other_data_set.labels.reshape([other_data_set.num_examples, 1])\n",
    "        self.labels = np.vstack((labels_1, labels_2))\n",
    "        self.labels = np.squeeze(self.labels)\n",
    "\n",
    "        if self.noisy_point_clouds is not None:\n",
    "            self.noisy_point_clouds = np.vstack((self.noisy_point_clouds, other_data_set.noisy_point_clouds))\n",
    "\n",
    "        self.num_examples = self.point_clouds.shape[0]\n",
    "\n",
    "        return self\n"
   ]
  },
  {
   "cell_type": "code",
   "execution_count": 60,
   "metadata": {},
   "outputs": [],
   "source": [
    "def files_in_subdirs(top_dir, search_pattern):\n",
    "    regex = re.compile(search_pattern)\n",
    "    for path, _, files in os.walk(top_dir):\n",
    "        for name in files:\n",
    "            full_name = os.path.join(path, name)\n",
    "            if regex.search(full_name):\n",
    "                yield full_name\n",
    "\n",
    "def pc_loader(f_name):\n",
    "    ''' loads a point-cloud saved under ShapeNet's \"standar\" folder scheme: \n",
    "    i.e. /syn_id/model_name.ply\n",
    "    '''\n",
    "    tokens = f_name.split('/')\n",
    "    model_id = tokens[-1].split('.')[0]\n",
    "    synet_id = tokens[-2]\n",
    "    return load_ply(f_name), model_id, synet_id\n",
    "\n",
    "\n",
    "def load_point_clouds_from_filenames(file_names, n_threads, loader, verbose=False):\n",
    "    pc = loader(file_names[0])[0]\n",
    "    pclouds = np.empty([len(file_names), pc.shape[0], pc.shape[1]], dtype=np.float32)\n",
    "    model_names = np.empty([len(file_names)], dtype=object)\n",
    "    class_ids = np.empty([len(file_names)], dtype=object)\n",
    "    #pool = Pool(n_threads)\n",
    "\n",
    "    #for i, data in enumerate(pool.imap(loader, file_names)): \n",
    "    #    pclouds[i, :, :], model_names[i], class_ids[i] = data\n",
    "\n",
    "    #pool.close()\n",
    "    #pool.join()\n",
    "\n",
    "    for i, f_name in tqdm(enumerate(file_names), total=len(file_names), disable=not verbose):\n",
    "        pclouds[i, :, :], model_names[i], class_ids[i] = loader(f_name)\n",
    "\n",
    "    if len(np.unique(model_names)) != len(pclouds):\n",
    "        warnings.warn('Point clouds with the same model name were loaded.')\n",
    "\n",
    "    if verbose:\n",
    "        print('{0} pclouds were loaded. They belong in {1} shape-classes.'.format(len(pclouds), len(np.unique(class_ids))))\n",
    "\n",
    "    return pclouds, model_names, class_ids\n",
    "\n",
    "def load_all_point_clouds_under_folder(top_dir, n_threads=20, file_ending='.ply', verbose=False):\n",
    "    file_names = [f for f in files_in_subdirs(top_dir, file_ending)]\n",
    "    pclouds, model_ids, syn_ids = load_point_clouds_from_filenames(file_names, n_threads, loader=pc_loader, verbose=verbose)\n",
    "    return PointCloudDataSet(pclouds, labels=syn_ids + '_' + model_ids, init_shuffle=False)"
   ]
  },
  {
   "cell_type": "code",
   "execution_count": 61,
   "metadata": {},
   "outputs": [
    {
     "data": {
      "application/vnd.jupyter.widget-view+json": {
       "model_id": "e9085415a64740a5b630331a1a9a9e4b",
       "version_major": 2,
       "version_minor": 0
      },
      "text/plain": [
       "  0%|          | 0/6778 [00:00<?, ?it/s]"
      ]
     },
     "metadata": {},
     "output_type": "display_data"
    },
    {
     "name": "stdout",
     "output_type": "stream",
     "text": [
      "6778 pclouds were loaded. They belong in 1 shape-classes.\n"
     ]
    },
    {
     "data": {
      "text/plain": [
       "<__main__.PointCloudDataSet at 0x17fba38b0>"
      ]
     },
     "execution_count": 61,
     "metadata": {},
     "output_type": "execute_result"
    }
   ],
   "source": [
    "# example usage\n",
    "\n",
    "class_name = 'chair'\n",
    "syn_id = category_to_snc_synth_id[class_name]\n",
    "path = path = 'latent_3d_points/data/shape_net_core_uniform_samples_2048/'\n",
    "top_dir = os.path.join(path, syn_id)\n",
    "\n",
    "load_all_point_clouds_under_folder(top_dir, file_ending='.ply', verbose=True)"
   ]
  },
  {
   "cell_type": "markdown",
   "metadata": {},
   "source": [
    "# Implementation"
   ]
  },
  {
   "cell_type": "code",
   "execution_count": null,
   "metadata": {},
   "outputs": [],
   "source": [
    "# In our implementation we use 5 1-D convolutional layers, each followed by a ReLU (Nair & Hinton, 2010) and a batch-normalization layer (Ioffe & Szegedy, 2015). The output of the last convolutional layer is passed to a feature-wise maximum to produce a k-dimensional vector which is the basis for our latent space.\n",
    "\n",
    "# let's try this with pytorch\n",
    "\n",
    "import torch\n",
    "import torch.nn as nn\n",
    "import torch.nn.functional as F\n",
    "import torch.optim as optim\n",
    "from torch.autograd import Variable\n",
    "\n",
    "class Encoder(nn.Module):\n",
    "    def __init__(self, latent_size=1024):\n",
    "        super(Encoder, self).__init__()\n",
    "        self.conv1 = nn.Conv1d(3, 64, 1)\n",
    "        self.conv2 = nn.Conv1d(64, 64, 1)\n",
    "        self.conv3 = nn.Conv1d(64, 64, 1)\n",
    "        self.conv4 = nn.Conv1d(64, 128, 1)\n",
    "        self.conv5 = nn.Conv1d(128, latent_size, 1)\n",
    "        self.relu = nn.ReLU()\n",
    "        self.bn1 = nn.BatchNorm1d(64)\n",
    "        self.bn2 = nn.BatchNorm1d(64)\n",
    "        self.bn3 = nn.BatchNorm1d(64)\n",
    "        self.bn4 = nn.BatchNorm1d(128)\n",
    "        self.bn5 = nn.BatchNorm1d(latent_size)\n",
    "\n",
    "    def forward(self, x):\n",
    "        x = self.relu(self.bn1(self.conv1(x)))\n",
    "        x = self.relu(self.bn2(self.conv2(x)))\n",
    "    \n",
    "\n"
   ]
  },
  {
   "cell_type": "code",
   "execution_count": null,
   "metadata": {},
   "outputs": [],
   "source": [
    "\n",
    "def mlp_architecture_ala_iclr_18(n_pc_points, bneck_size, bneck_post_mlp=False):\n",
    "    ''' Single class experiments.\n",
    "    '''\n",
    "    if n_pc_points != 2048:\n",
    "        raise ValueError()\n",
    "\n",
    "    encoder = encoder_with_convs_and_symmetry\n",
    "    decoder = decoder_with_fc_only\n",
    "\n",
    "    n_input = [n_pc_points, 3]\n",
    "\n",
    "    encoder_args = {'n_filters': [64, 128, 128, 256, bneck_size],\n",
    "                    'filter_sizes': [1],\n",
    "                    'strides': [1],\n",
    "                    'b_norm': True,\n",
    "                    'verbose': True\n",
    "                    }\n",
    "\n",
    "    decoder_args = {'layer_sizes': [256, 256, np.prod(n_input)],\n",
    "                    'b_norm': False,\n",
    "                    'b_norm_finish': False,\n",
    "                    'verbose': True\n",
    "                    }\n",
    "\n",
    "    if bneck_post_mlp:\n",
    "        encoder_args['n_filters'].pop()\n",
    "        decoder_args['layer_sizes'][0] = bneck_size\n",
    "\n",
    "    return encoder, decoder, encoder_args, decoder_args"
   ]
  },
  {
   "cell_type": "code",
   "execution_count": null,
   "metadata": {},
   "outputs": [],
   "source": [
    "encoder, decoder, enc_args, dec_args = mlp_architecture_ala_iclr_18(2048, 128)"
   ]
  }
 ],
 "metadata": {
  "kernelspec": {
   "display_name": "Python 3.9.7 64-bit",
   "language": "python",
   "name": "python3"
  },
  "language_info": {
   "codemirror_mode": {
    "name": "ipython",
    "version": 3
   },
   "file_extension": ".py",
   "mimetype": "text/x-python",
   "name": "python",
   "nbconvert_exporter": "python",
   "pygments_lexer": "ipython3",
   "version": "3.9.7"
  },
  "orig_nbformat": 4,
  "vscode": {
   "interpreter": {
    "hash": "aee8b7b246df8f9039afb4144a1f6fd8d2ca17a180786b69acc140d282b71a49"
   }
  }
 },
 "nbformat": 4,
 "nbformat_minor": 2
}
